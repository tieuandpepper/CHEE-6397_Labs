{
 "cells": [
  {
   "cell_type": "markdown",
   "id": "ce3ebcf5-fa71-4da0-8ae9-2686b03ea9fd",
   "metadata": {},
   "source": [
    "# Lecture on Python tutorial\n",
    "$x^2$ + $y^2$ = $r^2$\n",
    "\n",
    "$\\pi\\approx 3.14$"
   ]
  },
  {
   "cell_type": "code",
   "execution_count": 1,
   "id": "a1e5b5e5-f9f6-43eb-a5ec-b7c559f093c8",
   "metadata": {
    "tags": []
   },
   "outputs": [],
   "source": [
    "import numpy as np"
   ]
  },
  {
   "cell_type": "code",
   "execution_count": 2,
   "id": "83ba960b-1c79-47d8-bc52-c9a6a511eb65",
   "metadata": {
    "tags": []
   },
   "outputs": [
    {
     "data": {
      "text/plain": [
       "array([2, 2])"
      ]
     },
     "execution_count": 2,
     "metadata": {},
     "output_type": "execute_result"
    }
   ],
   "source": [
    "np.array([2,2])"
   ]
  },
  {
   "cell_type": "code",
   "execution_count": 3,
   "id": "86d84d19-127a-4607-bc06-94e485340dc1",
   "metadata": {
    "tags": []
   },
   "outputs": [],
   "source": [
    "# dir(np)"
   ]
  },
  {
   "cell_type": "code",
   "execution_count": 4,
   "id": "beb648fd-a8b0-43d4-8e31-7d49393d0763",
   "metadata": {
    "tags": []
   },
   "outputs": [],
   "source": [
    "# help(np)"
   ]
  },
  {
   "cell_type": "code",
   "execution_count": 5,
   "id": "18d16a16-c585-4e30-8dcd-d728b4470f2b",
   "metadata": {
    "tags": []
   },
   "outputs": [],
   "source": [
    "# help(np.array)"
   ]
  },
  {
   "cell_type": "markdown",
   "id": "9a0b925a-82df-4e87-8335-718fcb6d0cb7",
   "metadata": {},
   "source": [
    "# Variables"
   ]
  },
  {
   "cell_type": "code",
   "execution_count": 6,
   "id": "648966e7-0b30-4536-a526-7bf026d5bad7",
   "metadata": {
    "tags": []
   },
   "outputs": [],
   "source": [
    "x = 1"
   ]
  },
  {
   "cell_type": "code",
   "execution_count": 7,
   "id": "e07191f3-fd38-4b04-86f1-fda316877ba4",
   "metadata": {
    "tags": []
   },
   "outputs": [
    {
     "data": {
      "text/plain": [
       "1"
      ]
     },
     "execution_count": 7,
     "metadata": {},
     "output_type": "execute_result"
    }
   ],
   "source": [
    "x"
   ]
  },
  {
   "cell_type": "code",
   "execution_count": 8,
   "id": "a91a04d4-778c-404a-b6ff-0d3eeb7878c1",
   "metadata": {
    "tags": []
   },
   "outputs": [
    {
     "name": "stdout",
     "output_type": "stream",
     "text": [
      "1\n"
     ]
    }
   ],
   "source": [
    "print(x)"
   ]
  },
  {
   "cell_type": "code",
   "execution_count": 9,
   "id": "f01cb1a8-76d2-4534-bef8-beb5c3c92520",
   "metadata": {
    "tags": []
   },
   "outputs": [],
   "source": [
    "y = 1.0"
   ]
  },
  {
   "cell_type": "code",
   "execution_count": 10,
   "id": "6c846029-06a3-460f-8dde-63dbe1b073c8",
   "metadata": {
    "tags": []
   },
   "outputs": [
    {
     "data": {
      "text/plain": [
       "float"
      ]
     },
     "execution_count": 10,
     "metadata": {},
     "output_type": "execute_result"
    }
   ],
   "source": [
    "type(y)"
   ]
  },
  {
   "cell_type": "code",
   "execution_count": 11,
   "id": "0d4a800c-090d-40b2-86a0-6f0ba9142f8a",
   "metadata": {
    "tags": []
   },
   "outputs": [
    {
     "data": {
      "text/plain": [
       "str"
      ]
     },
     "execution_count": 11,
     "metadata": {},
     "output_type": "execute_result"
    }
   ],
   "source": [
    "s = 'hello world'\n",
    "type(s)"
   ]
  },
  {
   "cell_type": "markdown",
   "id": "54a308e2-0058-4777-a8c7-3bc861d33265",
   "metadata": {},
   "source": [
    "# Operations"
   ]
  },
  {
   "cell_type": "code",
   "execution_count": 12,
   "id": "63887113-795d-4452-8320-8887ec64537c",
   "metadata": {
    "tags": []
   },
   "outputs": [
    {
     "data": {
      "text/plain": [
       "3"
      ]
     },
     "execution_count": 12,
     "metadata": {},
     "output_type": "execute_result"
    }
   ],
   "source": [
    "a = 1\n",
    "b = 2\n",
    "a + b"
   ]
  },
  {
   "cell_type": "code",
   "execution_count": 13,
   "id": "ed30dbd6-5f81-4a0a-88e9-458923ba0206",
   "metadata": {
    "tags": []
   },
   "outputs": [
    {
     "data": {
      "text/plain": [
       "2"
      ]
     },
     "execution_count": 13,
     "metadata": {},
     "output_type": "execute_result"
    }
   ],
   "source": [
    "a*b"
   ]
  },
  {
   "cell_type": "code",
   "execution_count": 14,
   "id": "9dd03844-7c9b-4045-a76a-89dd4d9b7725",
   "metadata": {
    "tags": []
   },
   "outputs": [
    {
     "data": {
      "text/plain": [
       "0.5"
      ]
     },
     "execution_count": 14,
     "metadata": {},
     "output_type": "execute_result"
    }
   ],
   "source": [
    "a/b"
   ]
  },
  {
   "cell_type": "markdown",
   "id": "cc83d57e-75b3-40cb-9119-6cf8105c9fbe",
   "metadata": {
    "tags": []
   },
   "source": [
    "a div b"
   ]
  },
  {
   "cell_type": "code",
   "execution_count": 15,
   "id": "5c120833-f77a-4665-88c2-acf8207a0326",
   "metadata": {
    "tags": []
   },
   "outputs": [
    {
     "data": {
      "text/plain": [
       "0"
      ]
     },
     "execution_count": 15,
     "metadata": {},
     "output_type": "execute_result"
    }
   ],
   "source": [
    "a//b"
   ]
  },
  {
   "cell_type": "markdown",
   "id": "3ea9a88c-aa52-46df-904a-b1dddf03b083",
   "metadata": {},
   "source": [
    "# Data types"
   ]
  },
  {
   "cell_type": "markdown",
   "id": "7f36c8cf-ed9a-4a3a-bf2a-b5eaa3417a9f",
   "metadata": {},
   "source": [
    "## List"
   ]
  },
  {
   "cell_type": "code",
   "execution_count": 16,
   "id": "6ca27b5a-1abc-42f7-b60e-cc64e095e4ed",
   "metadata": {
    "tags": []
   },
   "outputs": [
    {
     "data": {
      "text/plain": [
       "[1, 2, 3]"
      ]
     },
     "execution_count": 16,
     "metadata": {},
     "output_type": "execute_result"
    }
   ],
   "source": [
    "a = [1,2,3]\n",
    "a"
   ]
  },
  {
   "cell_type": "code",
   "execution_count": 17,
   "id": "436a0160-1762-4d33-83d3-ec0a88faa5ee",
   "metadata": {
    "tags": []
   },
   "outputs": [
    {
     "data": {
      "text/plain": [
       "[32, 1.2, 'hello']"
      ]
     },
     "execution_count": 17,
     "metadata": {},
     "output_type": "execute_result"
    }
   ],
   "source": [
    "b = [32, 1.2 , 'hello']\n",
    "b"
   ]
  },
  {
   "cell_type": "code",
   "execution_count": 18,
   "id": "9683bba1-8641-436b-8182-361577d863d5",
   "metadata": {
    "tags": []
   },
   "outputs": [
    {
     "data": {
      "text/plain": [
       "[1, 2, 3, 32, 1.2, 'hello']"
      ]
     },
     "execution_count": 18,
     "metadata": {},
     "output_type": "execute_result"
    }
   ],
   "source": [
    "a+b"
   ]
  },
  {
   "cell_type": "markdown",
   "id": "c3c6dba7-bd07-4fcf-a3af-56f387448ec5",
   "metadata": {},
   "source": [
    "Add an element at the end"
   ]
  },
  {
   "cell_type": "code",
   "execution_count": 19,
   "id": "47efe6a9-9ce1-4eb6-a6a1-976bfcaa804e",
   "metadata": {
    "tags": []
   },
   "outputs": [
    {
     "data": {
      "text/plain": [
       "[32, 1.2, 'hello', 'world']"
      ]
     },
     "execution_count": 19,
     "metadata": {},
     "output_type": "execute_result"
    }
   ],
   "source": [
    "b.append('world')\n",
    "b"
   ]
  },
  {
   "cell_type": "markdown",
   "id": "117420e7-8a18-48c3-b87f-f18b0ae60f68",
   "metadata": {},
   "source": [
    "Add another list at the end"
   ]
  },
  {
   "cell_type": "code",
   "execution_count": 20,
   "id": "5565f87e-9d01-4f24-a735-eef69fd1d35c",
   "metadata": {
    "tags": []
   },
   "outputs": [
    {
     "data": {
      "text/plain": [
       "[32, 1.2, 'hello', 'world', 'x', 'y']"
      ]
     },
     "execution_count": 20,
     "metadata": {},
     "output_type": "execute_result"
    }
   ],
   "source": [
    "b.extend(['x','y'])\n",
    "b"
   ]
  },
  {
   "cell_type": "code",
   "execution_count": 21,
   "id": "f6d1b0a8-5d47-4985-a646-13bb8c5719c7",
   "metadata": {
    "tags": []
   },
   "outputs": [
    {
     "data": {
      "text/plain": [
       "32"
      ]
     },
     "execution_count": 21,
     "metadata": {},
     "output_type": "execute_result"
    }
   ],
   "source": [
    "b[0]"
   ]
  },
  {
   "cell_type": "code",
   "execution_count": 22,
   "id": "e4bc4bdd-d09f-4d59-9bd8-8938ed058a19",
   "metadata": {
    "tags": []
   },
   "outputs": [
    {
     "data": {
      "text/plain": [
       "'y'"
      ]
     },
     "execution_count": 22,
     "metadata": {},
     "output_type": "execute_result"
    }
   ],
   "source": [
    "b[-1]"
   ]
  },
  {
   "cell_type": "code",
   "execution_count": 23,
   "id": "5df11e63-ea33-4bee-9c6e-5c416e829c11",
   "metadata": {
    "tags": []
   },
   "outputs": [
    {
     "data": {
      "text/plain": [
       "6"
      ]
     },
     "execution_count": 23,
     "metadata": {},
     "output_type": "execute_result"
    }
   ],
   "source": [
    "len(b)"
   ]
  },
  {
   "cell_type": "markdown",
   "id": "fa6d4ec1-b6ad-46ec-a912-14d89ba0d8fa",
   "metadata": {},
   "source": [
    "List is mutable (changeable)"
   ]
  },
  {
   "cell_type": "code",
   "execution_count": 24,
   "id": "bb091db1-4f9d-446c-be32-850f7a752a18",
   "metadata": {
    "tags": []
   },
   "outputs": [
    {
     "data": {
      "text/plain": [
       "[32, 1.1, 'hello', 'world', 'x', 'y']"
      ]
     },
     "execution_count": 24,
     "metadata": {},
     "output_type": "execute_result"
    }
   ],
   "source": [
    "b[1] = 1.1\n",
    "b"
   ]
  },
  {
   "cell_type": "markdown",
   "id": "41cc4dc0-f5f5-44a5-b58a-739048ab8cf8",
   "metadata": {},
   "source": [
    "## Tuple"
   ]
  },
  {
   "cell_type": "code",
   "execution_count": 25,
   "id": "8e4d669d-e1e6-42e0-b25d-dff43613ad4c",
   "metadata": {
    "tags": []
   },
   "outputs": [
    {
     "data": {
      "text/plain": [
       "(1, 'hello')"
      ]
     },
     "execution_count": 25,
     "metadata": {},
     "output_type": "execute_result"
    }
   ],
   "source": [
    "t = (1, 'hello')\n",
    "t"
   ]
  },
  {
   "cell_type": "code",
   "execution_count": 26,
   "id": "f57155d2-4d5a-4d36-a761-db6b99966168",
   "metadata": {
    "tags": []
   },
   "outputs": [
    {
     "data": {
      "text/plain": [
       "'hello'"
      ]
     },
     "execution_count": 26,
     "metadata": {},
     "output_type": "execute_result"
    }
   ],
   "source": [
    "t[1]"
   ]
  },
  {
   "cell_type": "markdown",
   "id": "ee9f7b5a-6385-4ab8-9e37-6751be3703e8",
   "metadata": {},
   "source": [
    "Tuple is unmutable (cannot be changed)"
   ]
  },
  {
   "cell_type": "code",
   "execution_count": 27,
   "id": "85ca8d3f-7825-4004-9d5c-feb89fecbf4a",
   "metadata": {
    "tags": []
   },
   "outputs": [],
   "source": [
    "# t[1] = 'world'"
   ]
  },
  {
   "cell_type": "code",
   "execution_count": 28,
   "id": "4ce5eb0c-0b78-4587-9b57-49a32c2276c6",
   "metadata": {
    "tags": []
   },
   "outputs": [
    {
     "data": {
      "text/plain": [
       "2"
      ]
     },
     "execution_count": 28,
     "metadata": {},
     "output_type": "execute_result"
    }
   ],
   "source": [
    "len(t)"
   ]
  },
  {
   "cell_type": "markdown",
   "id": "138d5a06-24a1-4447-aeaf-af5b7de0f477",
   "metadata": {},
   "source": [
    "## Dictionary"
   ]
  },
  {
   "cell_type": "code",
   "execution_count": 29,
   "id": "ae3da7dd-274c-4a01-ad44-bbe1eb072275",
   "metadata": {
    "tags": []
   },
   "outputs": [
    {
     "data": {
      "text/plain": [
       "{'First': 'John', 'Last': 'Doe', 'Middle': 'John'}"
      ]
     },
     "execution_count": 29,
     "metadata": {},
     "output_type": "execute_result"
    }
   ],
   "source": [
    "d = {'First': 'John', 'Last':'Doe', 'Middle':'John'}\n",
    "d"
   ]
  },
  {
   "cell_type": "markdown",
   "id": "17e9c353-4a1e-4d0d-acc7-9c84bdf4aa91",
   "metadata": {},
   "source": [
    "Keys are unique, values are not"
   ]
  },
  {
   "cell_type": "code",
   "execution_count": 30,
   "id": "a9952f55-c5a1-4dc8-b961-f873d5de738f",
   "metadata": {
    "tags": []
   },
   "outputs": [
    {
     "data": {
      "text/plain": [
       "3"
      ]
     },
     "execution_count": 30,
     "metadata": {},
     "output_type": "execute_result"
    }
   ],
   "source": [
    "len(d)"
   ]
  },
  {
   "cell_type": "code",
   "execution_count": 31,
   "id": "4c54ce3b-b908-42ee-95ea-c336e575a2b4",
   "metadata": {
    "tags": []
   },
   "outputs": [
    {
     "data": {
      "text/plain": [
       "'Doe'"
      ]
     },
     "execution_count": 31,
     "metadata": {},
     "output_type": "execute_result"
    }
   ],
   "source": [
    "d['Last']"
   ]
  },
  {
   "cell_type": "markdown",
   "id": "463fe6c3-dbbc-4aa5-80af-9653216f6993",
   "metadata": {},
   "source": [
    "# Logic Statements"
   ]
  },
  {
   "cell_type": "markdown",
   "id": "1cca4297-31ab-402e-b410-7e374c8c1964",
   "metadata": {},
   "source": [
    "If-else"
   ]
  },
  {
   "cell_type": "code",
   "execution_count": 32,
   "id": "da68c8ab-a0c3-4f73-9ebd-6832a8976115",
   "metadata": {
    "tags": []
   },
   "outputs": [],
   "source": [
    "a = -1"
   ]
  },
  {
   "cell_type": "code",
   "execution_count": 33,
   "id": "168883c0-0f04-4039-9262-33fcff08188b",
   "metadata": {
    "tags": []
   },
   "outputs": [
    {
     "name": "stdout",
     "output_type": "stream",
     "text": [
      "negative\n"
     ]
    }
   ],
   "source": [
    "if a < 0: \n",
    "    print('negative')\n",
    "elif a == 0:\n",
    "    print('zero')\n",
    "else:\n",
    "    print('positive')"
   ]
  },
  {
   "cell_type": "code",
   "execution_count": 34,
   "id": "ece0ad9f-1f40-4c0c-bc68-6e2b5da584a7",
   "metadata": {
    "tags": []
   },
   "outputs": [],
   "source": [
    "b = -4"
   ]
  },
  {
   "cell_type": "markdown",
   "id": "40ba5879-b908-4eb1-a144-c45a0f447c9f",
   "metadata": {},
   "source": [
    "while loop"
   ]
  },
  {
   "cell_type": "code",
   "execution_count": 35,
   "id": "9fc4d6d3-65d3-4acb-971d-d5633399815d",
   "metadata": {
    "tags": []
   },
   "outputs": [
    {
     "name": "stdout",
     "output_type": "stream",
     "text": [
      "b =  -4\n",
      "b =  -3\n",
      "b =  -2\n",
      "b =  -1\n"
     ]
    }
   ],
   "source": [
    "while b < 0:\n",
    "    print('b = ', b)\n",
    "    b += 1"
   ]
  },
  {
   "cell_type": "markdown",
   "id": "38c91060-0e11-4fdd-9a1e-0e600522ec3b",
   "metadata": {},
   "source": [
    "for loop"
   ]
  },
  {
   "cell_type": "code",
   "execution_count": 36,
   "id": "8c62cf9b-9525-4d42-af5e-877a865c1c1e",
   "metadata": {
    "tags": []
   },
   "outputs": [],
   "source": [
    "a = [1,2.3,3.4,4]"
   ]
  },
  {
   "cell_type": "code",
   "execution_count": 37,
   "id": "8f024d72-8e81-4af3-84d2-76b82fa863cf",
   "metadata": {
    "tags": []
   },
   "outputs": [
    {
     "name": "stdout",
     "output_type": "stream",
     "text": [
      "1, 2.3, 3.4, 4, "
     ]
    }
   ],
   "source": [
    "for i in a:\n",
    "    print(i, end = ', ')"
   ]
  },
  {
   "cell_type": "code",
   "execution_count": 38,
   "id": "65a0b076-449b-4610-b4bb-a6ebc645b362",
   "metadata": {
    "tags": []
   },
   "outputs": [
    {
     "data": {
      "text/plain": [
       "[2, 4.6, 6.8, 8]"
      ]
     },
     "execution_count": 38,
     "metadata": {},
     "output_type": "execute_result"
    }
   ],
   "source": [
    "b = []\n",
    "for i in a:\n",
    "    b.append(i*2)\n",
    "b"
   ]
  },
  {
   "cell_type": "code",
   "execution_count": 39,
   "id": "b96a7df9-7e76-47f4-9ae9-e8bc56ec8839",
   "metadata": {
    "tags": []
   },
   "outputs": [
    {
     "name": "stdout",
     "output_type": "stream",
     "text": [
      "h\n",
      "e\n",
      "l\n",
      "l\n",
      "o\n"
     ]
    }
   ],
   "source": [
    "s = 'hello'\n",
    "for i in s:\n",
    "    print(i)"
   ]
  },
  {
   "cell_type": "code",
   "execution_count": 40,
   "id": "7a7d0793-4fe2-4d73-a0bc-b609f2271e69",
   "metadata": {
    "tags": []
   },
   "outputs": [
    {
     "name": "stdout",
     "output_type": "stream",
     "text": [
      "First  is  John\n",
      "Last  is  Doe\n",
      "Middle  is  John\n"
     ]
    }
   ],
   "source": [
    "d = {'First': 'John', 'Last':'Doe', 'Middle':'John'}\n",
    "for k,v in d.items():\n",
    "    print(k, \" is \", v)"
   ]
  },
  {
   "cell_type": "markdown",
   "id": "f97daa31-5a9b-4d46-a3d2-37708d56fb18",
   "metadata": {},
   "source": [
    "# Functions"
   ]
  },
  {
   "cell_type": "code",
   "execution_count": 41,
   "id": "764fea4b-f8ad-4fc7-97e8-8c8913aefc5e",
   "metadata": {
    "tags": []
   },
   "outputs": [],
   "source": [
    "def my_cool_function():\n",
    "    print(\"we're at UH\")\n",
    "    print(\"It's Tuesday\")"
   ]
  },
  {
   "cell_type": "code",
   "execution_count": 42,
   "id": "92275fd7-c541-46d0-8290-9650edf3df74",
   "metadata": {
    "tags": []
   },
   "outputs": [
    {
     "name": "stdout",
     "output_type": "stream",
     "text": [
      "we're at UH\n",
      "It's Tuesday\n"
     ]
    }
   ],
   "source": [
    "my_cool_function()"
   ]
  },
  {
   "cell_type": "code",
   "execution_count": 43,
   "id": "f474224a-70ea-4772-ac24-7407dc8ae83d",
   "metadata": {
    "tags": []
   },
   "outputs": [
    {
     "name": "stdout",
     "output_type": "stream",
     "text": [
      "we're at UH\n",
      "It's Tuesday\n"
     ]
    }
   ],
   "source": [
    "my_cool_function()"
   ]
  },
  {
   "cell_type": "code",
   "execution_count": 44,
   "id": "0919f0ee-1f69-404e-ba52-3aca18e8340f",
   "metadata": {
    "tags": []
   },
   "outputs": [],
   "source": [
    "def my_factorial(n):\n",
    "    fac = 1\n",
    "    while n > 1:\n",
    "        fac *= n\n",
    "        n -= 1\n",
    "    return fac"
   ]
  },
  {
   "cell_type": "code",
   "execution_count": 45,
   "id": "91082df3-6bcf-49f3-a7be-f4c6a4e7a033",
   "metadata": {
    "tags": []
   },
   "outputs": [
    {
     "data": {
      "text/plain": [
       "120"
      ]
     },
     "execution_count": 45,
     "metadata": {},
     "output_type": "execute_result"
    }
   ],
   "source": [
    "my_factorial(5)"
   ]
  },
  {
   "cell_type": "code",
   "execution_count": 46,
   "id": "70cafcfe-640c-4637-9b88-3804e3aa4353",
   "metadata": {
    "tags": []
   },
   "outputs": [],
   "source": [
    "def is_larger(x,y):\n",
    "    if x > y:\n",
    "        return True\n",
    "    return False"
   ]
  },
  {
   "cell_type": "code",
   "execution_count": 47,
   "id": "48abfafe-69f0-4483-98c4-001f68bddd67",
   "metadata": {
    "tags": []
   },
   "outputs": [
    {
     "data": {
      "text/plain": [
       "True"
      ]
     },
     "execution_count": 47,
     "metadata": {},
     "output_type": "execute_result"
    }
   ],
   "source": [
    "is_larger(3,1)"
   ]
  },
  {
   "cell_type": "code",
   "execution_count": 48,
   "id": "9d4bdb46-594d-4487-8b0e-8a0417914d6a",
   "metadata": {
    "tags": []
   },
   "outputs": [
    {
     "data": {
      "text/plain": [
       "False"
      ]
     },
     "execution_count": 48,
     "metadata": {},
     "output_type": "execute_result"
    }
   ],
   "source": [
    "is_larger(1,3.1)"
   ]
  },
  {
   "cell_type": "code",
   "execution_count": 49,
   "id": "9ccb2238-3714-4d12-8598-c74171594d97",
   "metadata": {
    "tags": []
   },
   "outputs": [],
   "source": [
    "def is_smaller(a,b=0):\n",
    "    if a < b:\n",
    "        return True\n",
    "    return False"
   ]
  },
  {
   "cell_type": "code",
   "execution_count": 50,
   "id": "1f540ab0-16c2-45b4-ae29-cb3ddb22231b",
   "metadata": {
    "tags": []
   },
   "outputs": [
    {
     "data": {
      "text/plain": [
       "False"
      ]
     },
     "execution_count": 50,
     "metadata": {},
     "output_type": "execute_result"
    }
   ],
   "source": [
    "is_smaller(1)"
   ]
  },
  {
   "cell_type": "code",
   "execution_count": 51,
   "id": "6e8bb215-8e3a-4013-a577-4a6df8c79249",
   "metadata": {
    "tags": []
   },
   "outputs": [
    {
     "data": {
      "text/plain": [
       "True"
      ]
     },
     "execution_count": 51,
     "metadata": {},
     "output_type": "execute_result"
    }
   ],
   "source": [
    "is_smaller(1,2)"
   ]
  },
  {
   "cell_type": "markdown",
   "id": "368d3007-24ed-4292-bbb3-4fd750bd20ec",
   "metadata": {},
   "source": [
    "# Class"
   ]
  },
  {
   "cell_type": "code",
   "execution_count": 52,
   "id": "ee2a29f0-b3ae-4686-a066-0a5174a1cb61",
   "metadata": {
    "tags": []
   },
   "outputs": [],
   "source": [
    "class SelectNumbers:\n",
    "    # definition of this class\n",
    "    # self is an instance of this class\n",
    "    def __init__(self, numbers):\n",
    "        # attributes of this class\n",
    "        self.numbers = numbers\n",
    "        print('SelectNumbers class is initialized')\n",
    "    \n",
    "    def get_odd(self):\n",
    "        odd_num = []\n",
    "        for n in self.numbers:\n",
    "            if n%2:\n",
    "                odd_num.append(n)\n",
    "        return odd_num"
   ]
  },
  {
   "cell_type": "code",
   "execution_count": 53,
   "id": "f9bfbfe9-4e72-4072-a3ce-0155f1fb5907",
   "metadata": {
    "tags": []
   },
   "outputs": [
    {
     "name": "stdout",
     "output_type": "stream",
     "text": [
      "SelectNumbers class is initialized\n"
     ]
    }
   ],
   "source": [
    "# instance of a class\n",
    "o = SelectNumbers([1,2,3,4])"
   ]
  },
  {
   "cell_type": "code",
   "execution_count": 54,
   "id": "cf32970a-43d3-42d6-8b69-8378ac6221fc",
   "metadata": {
    "tags": []
   },
   "outputs": [
    {
     "data": {
      "text/plain": [
       "[1, 2, 3, 4]"
      ]
     },
     "execution_count": 54,
     "metadata": {},
     "output_type": "execute_result"
    }
   ],
   "source": [
    "o.numbers"
   ]
  },
  {
   "cell_type": "code",
   "execution_count": 55,
   "id": "85695fc0-7dee-4181-8f99-cb60e651deb9",
   "metadata": {
    "tags": []
   },
   "outputs": [
    {
     "data": {
      "text/plain": [
       "3"
      ]
     },
     "execution_count": 55,
     "metadata": {},
     "output_type": "execute_result"
    }
   ],
   "source": [
    "o.numbers[-2]"
   ]
  },
  {
   "cell_type": "code",
   "execution_count": 56,
   "id": "555f622c-3dca-46bd-9ff4-b81416aaa839",
   "metadata": {
    "tags": []
   },
   "outputs": [
    {
     "data": {
      "text/plain": [
       "[1, 3]"
      ]
     },
     "execution_count": 56,
     "metadata": {},
     "output_type": "execute_result"
    }
   ],
   "source": [
    "o.get_odd()"
   ]
  },
  {
   "cell_type": "code",
   "execution_count": null,
   "id": "2803a7d2-30bc-47f9-8b53-4e6165889a6c",
   "metadata": {},
   "outputs": [],
   "source": []
  }
 ],
 "metadata": {
  "kernelspec": {
   "display_name": "Python 3 (ipykernel)",
   "language": "python",
   "name": "python3"
  },
  "language_info": {
   "codemirror_mode": {
    "name": "ipython",
    "version": 3
   },
   "file_extension": ".py",
   "mimetype": "text/x-python",
   "name": "python",
   "nbconvert_exporter": "python",
   "pygments_lexer": "ipython3",
   "version": "3.11.4"
  }
 },
 "nbformat": 4,
 "nbformat_minor": 5
}
